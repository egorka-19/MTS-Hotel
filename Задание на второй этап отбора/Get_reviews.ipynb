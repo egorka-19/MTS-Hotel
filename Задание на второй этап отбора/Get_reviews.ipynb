{
  "nbformat": 4,
  "nbformat_minor": 0,
  "metadata": {
    "colab": {
      "provenance": []
    },
    "kernelspec": {
      "name": "python3",
      "display_name": "Python 3"
    },
    "language_info": {
      "name": "python"
    }
  },
  "cells": [
    {
      "cell_type": "code",
      "source": [
        "!pip install parsel"
      ],
      "metadata": {
        "colab": {
          "base_uri": "https://localhost:8080/"
        },
        "id": "n3QCS_PKqcNp",
        "outputId": "05bef7bb-e1f3-4685-a66f-ff75186f89ac"
      },
      "execution_count": 2,
      "outputs": [
        {
          "output_type": "stream",
          "name": "stdout",
          "text": [
            "Collecting parsel\n",
            "  Downloading parsel-1.9.1-py2.py3-none-any.whl.metadata (11 kB)\n",
            "Collecting cssselect>=1.2.0 (from parsel)\n",
            "  Downloading cssselect-1.2.0-py2.py3-none-any.whl.metadata (2.2 kB)\n",
            "Collecting jmespath (from parsel)\n",
            "  Downloading jmespath-1.0.1-py3-none-any.whl.metadata (7.6 kB)\n",
            "Requirement already satisfied: lxml in /usr/local/lib/python3.10/dist-packages (from parsel) (5.3.0)\n",
            "Requirement already satisfied: packaging in /usr/local/lib/python3.10/dist-packages (from parsel) (24.1)\n",
            "Collecting w3lib>=1.19.0 (from parsel)\n",
            "  Downloading w3lib-2.2.1-py3-none-any.whl.metadata (2.1 kB)\n",
            "Downloading parsel-1.9.1-py2.py3-none-any.whl (17 kB)\n",
            "Downloading cssselect-1.2.0-py2.py3-none-any.whl (18 kB)\n",
            "Downloading w3lib-2.2.1-py3-none-any.whl (21 kB)\n",
            "Downloading jmespath-1.0.1-py3-none-any.whl (20 kB)\n",
            "Installing collected packages: w3lib, jmespath, cssselect, parsel\n",
            "Successfully installed cssselect-1.2.0 jmespath-1.0.1 parsel-1.9.1 w3lib-2.2.1\n"
          ]
        }
      ]
    },
    {
      "cell_type": "code",
      "execution_count": 7,
      "metadata": {
        "colab": {
          "base_uri": "https://localhost:8080/"
        },
        "id": "18RksUU3qWY8",
        "outputId": "54b056d4-429f-45f7-e419-2f06050f3862"
      },
      "outputs": [
        {
          "output_type": "stream",
          "name": "stdout",
          "text": [
            "Scraped one hotel data with 100 reviews\n"
          ]
        }
      ],
      "source": [
        "import asyncio\n",
        "import json\n",
        "import math\n",
        "import csv\n",
        "from typing import List, Dict, Optional\n",
        "from httpx import AsyncClient, Response\n",
        "from parsel import Selector\n",
        "\n",
        "client = AsyncClient(\n",
        "    headers={\n",
        "        \"User-Agent\": \"Mozilla/5.0 (Windows NT 10.0; Win64; x64) AppleWebKit/537.36 (KHTML, like Gecko) Chrome/91.0.4472.114 Safari/537.36\",\n",
        "        \"Accept\": \"text/html,application/xhtml+xml,application/xml;q=0.9,image/avif,image/webp,image/apng,*/*;q=0.8,application/signed-exchange;v=b3;q=0.9\",\n",
        "        \"Accept-Language\": \"en-US,en;q=0.9\",\n",
        "        \"Referer\": \"https://www.tripadvisor.com/\",\n",
        "        \"Connection\": \"keep-alive\",\n",
        "        \"Upgrade-Insecure-Requests\": \"1\",\n",
        "    },\n",
        "    follow_redirects=True\n",
        ")\n",
        "\n",
        "def parse_hotel_page(result: Response) -> Dict:\n",
        "    \"\"\"Анализ данных об отелях со страниц отелей.\"\"\"\n",
        "    selector = Selector(result.text)\n",
        "    basic_data = json.loads(selector.xpath(\"//script[contains(text(),'aggregateRating')]/text()\").get())\n",
        "    description = selector.css(\"div.fIrGe._T::text\").get()\n",
        "    amenities = []\n",
        "    for feature in selector.xpath(\"//div[contains(@data-test-target, 'amenity')]/text()\"):\n",
        "        amenities.append(feature.get())\n",
        "    reviews = []\n",
        "    for review in selector.xpath(\"//div[@data-reviewid]\"):\n",
        "        title = review.xpath(\".//div[@data-test-target='review-title']/a/span/span/text()\").get()\n",
        "        text = \"\".join(review.xpath(\".//span[contains(@data-automation, 'reviewText')]/span/text()\").extract())\n",
        "        rate = review.xpath(\".//div[@data-test-target='review-rating']/span/@class\").get()\n",
        "        rate = (int(rate.split(\"ui_bubble_rating\")[-1].split(\"_\")[-1].replace(\"0\", \"\"))) if rate else None\n",
        "        trip_data = review.xpath(\".//span[span[contains(text(),'Date of stay')]]/text()\").get()\n",
        "        reviews.append({\n",
        "            \"title\": title,\n",
        "            \"text\": text,\n",
        "            \"rate\": rate,\n",
        "            \"tripDate\": trip_data\n",
        "        })\n",
        "\n",
        "    return {\n",
        "        \"basic_data\": basic_data,\n",
        "        \"description\": description,\n",
        "        \"features\": amenities,\n",
        "        \"reviews\": reviews\n",
        "    }\n",
        "\n",
        "async def fetch_hotel_page(url: str) -> Response:\n",
        "    \"\"\"Получить страницу отеля асинхронно.\"\"\"\n",
        "    await asyncio.sleep(3)  # Задержка перед запросом\n",
        "    return await client.get(url)\n",
        "\n",
        "async def scrape_hotel(url: str, max_review_pages: Optional[int] = None) -> Dict:\n",
        "    \"\"\"Собераем данные и отзывы об отелях.\"\"\"\n",
        "    first_page = await fetch_hotel_page(url)\n",
        "\n",
        "    if first_page.status_code != 200:\n",
        "        print(f\"Request failed with status code {first_page.status_code}\")\n",
        "        return {}\n",
        "\n",
        "    hotel_data = parse_hotel_page(first_page)\n",
        "\n",
        "    #Получить общее количество страниц отзыва\n",
        "    _review_page_size = 20\n",
        "    total_reviews = int(hotel_data[\"basic_data\"][\"aggregateRating\"][\"reviewCount\"])\n",
        "    total_review_pages = math.ceil(total_reviews / _review_page_size)\n",
        "\n",
        "    #Получите количество страниц отзыва для парсинга\n",
        "    if max_review_pages and max_review_pages < total_review_pages:\n",
        "        total_review_pages = max_review_pages\n",
        "\n",
        "    #\n",
        "    # Создайте список задач для одновременного парсинга всех страниц отзывов.\n",
        "    review_urls = [\n",
        "        url.replace(\"-Reviews-\", f\"-Reviews-or{_review_page_size * i}-\")\n",
        "        for i in range(1, total_review_pages)\n",
        "    ]\n",
        "\n",
        "    tasks = [fetch_hotel_page(review_url) for review_url in review_urls]\n",
        "\n",
        "    for response in asyncio.as_completed(tasks):\n",
        "        data = parse_hotel_page(await response)\n",
        "        hotel_data[\"reviews\"].extend(data[\"reviews\"])\n",
        "\n",
        "    print(f\"Scraped one hotel data with {len(hotel_data['reviews'])} reviews\")\n",
        "    return hotel_data\n",
        "\n",
        "def save_reviews_to_csv(hotel_data: Dict, filename: str):\n",
        "    \"\"\"Сохраняйте отзывы и оценки в файл CSV.\"\"\"\n",
        "    with open(filename, mode='w', newline='', encoding='utf-8') as file:\n",
        "        writer = csv.writer(file)\n",
        "        writer.writerow([\"Title\", \"Text\", \"Rating\", \"Trip Date\"])  # Заголовки столбцов\n",
        "\n",
        "        for review in hotel_data[\"reviews\"]:\n",
        "            writer.writerow([review[\"title\"], review[\"text\"], review[\"rate\"], review[\"tripDate\"]])\n",
        "\n",
        "\n",
        "hotel_data = await scrape_hotel(\n",
        "    url=\"https://www.tripadvisor.com/Hotel_Review-g190327-d264936-Reviews-1926_Hotel_Spa-Sliema_Island_of_Malta.html\",\n",
        "    max_review_pages=10,\n",
        ")\n",
        "# Сохранение отзывов в CSV файл\n",
        "save_reviews_to_csv(hotel_data, 'hotel_reviews.csv')\n",
        "# Печать результата в формате JSON\n",
        "\n"
      ]
    }
  ]
}